{
 "cells": [
  {
   "cell_type": "code",
   "execution_count": 247,
   "metadata": {},
   "outputs": [],
   "source": [
    "import pandas as pd\n",
    "from pint import UnitRegistry\n",
    "from tabulate import tabulate\n",
    "\n",
    "ureg = UnitRegistry()\n",
    "ureg.define('pinch = .0625 * teaspoon')\n",
    "ureg.define('egg_unit = 1 * atomic_mass_constant')\n",
    "ureg.define('plate = 1 * atomic_mass_constant')"
   ]
  },
  {
   "cell_type": "code",
   "execution_count": 248,
   "metadata": {},
   "outputs": [],
   "source": [
    "# https://docs.google.com/spreadsheets/d/1wQmHGjM6YSf6omD1g6ne-AQY991ESKTo-9z8LHSt8do/edit\n",
    "# df = pd.read_clipboard()\n",
    "# df.to_csv('baking_ingredients.csv')"
   ]
  },
  {
   "cell_type": "code",
   "execution_count": 249,
   "metadata": {},
   "outputs": [],
   "source": [
    "# df = pd.read_clipboard()\n",
    "# df.to_csv('baking_directions.csv')"
   ]
  },
  {
   "cell_type": "code",
   "execution_count": 250,
   "metadata": {},
   "outputs": [],
   "source": [
    "df = pd.read_csv('baking_ingredients.csv', index_col=0)\n",
    "unit_conv = {'cup': ureg.US_liquid_cup, \n",
    "             'teaspoon': ureg.teaspoon, \n",
    "             'ounce': ureg.US_fluid_ounce,\n",
    "             'pinch': ureg.pinch,\n",
    "             'unit': ureg.egg_unit,\n",
    "             'plate': ureg.plate}"
   ]
  },
  {
   "cell_type": "code",
   "execution_count": 251,
   "metadata": {},
   "outputs": [],
   "source": [
    "df['pint_unit'] = df['quantity'] * df['unit'].map(unit_conv)"
   ]
  },
  {
   "cell_type": "code",
   "execution_count": 252,
   "metadata": {},
   "outputs": [],
   "source": [
    "cookies_to_bake = [\n",
    " \"Tate's Chocolate Chip Cookies\",\n",
    " 'Magic Cookie Bars',\n",
    " 'Peanut Butter Cluster Kisses',\n",
    " 'Forgotten Cookies'\n",
    "]"
   ]
  },
  {
   "cell_type": "code",
   "execution_count": 253,
   "metadata": {},
   "outputs": [
    {
     "data": {
      "text/plain": [
       "ingredient\n",
       "all-purpose flour                          2.0 cup\n",
       "baking soda                           1.0 teaspoon\n",
       "bisquik baking mix                         2.0 cup\n",
       "chopped nuts                               2.0 cup\n",
       "coconut flake                             1.33 cup\n",
       "dark brown sugar                          0.75 cup\n",
       "egg                                   2.0 egg_unit\n",
       "egg white                             2.0 egg_unit\n",
       "graham cracker crumbs                      1.5 cup\n",
       "granulated sugar                         1.0 plate\n",
       "hershey kiss                      10.8 fluid_ounce\n",
       "mini semisweet chocolate chips             1.0 cup\n",
       "peanut butter                             0.75 cup\n",
       "salt                               1.0625 teaspoon\n",
       "salted butter                              1.0 cup\n",
       "semisweet chocolate chips                 2.75 cup\n",
       "sugar                                     1.42 cup\n",
       "sweetened condensed milk          28.0 fluid_ounce\n",
       "unsalted butter                            0.5 cup\n",
       "vanilla                               3.0 teaspoon\n",
       "water                                 3.0 teaspoon\n",
       "Name: pint_unit, dtype: object"
      ]
     },
     "execution_count": 253,
     "metadata": {},
     "output_type": "execute_result"
    }
   ],
   "source": [
    "df[df['cookie'].isin(cookies_to_bake)].groupby(['ingredient'])['pint_unit'].sum()"
   ]
  },
  {
   "cell_type": "code",
   "execution_count": 254,
   "metadata": {},
   "outputs": [
    {
     "name": "stdout",
     "output_type": "stream",
     "text": [
      "| ingredient                     | pint_unit        |\n",
      "|:-------------------------------|:-----------------|\n",
      "| all-purpose flour              | 2.0 cup          |\n",
      "| baking soda                    | 1.0 teaspoon     |\n",
      "| bisquik baking mix             | 2.0 cup          |\n",
      "| chopped nuts                   | 2.0 cup          |\n",
      "| coconut flake                  | 1.33 cup         |\n",
      "| dark brown sugar               | 0.75 cup         |\n",
      "| egg                            | 2.0 egg_unit     |\n",
      "| egg white                      | 2.0 egg_unit     |\n",
      "| graham cracker crumbs          | 1.5 cup          |\n",
      "| granulated sugar               | 1.0 plate        |\n",
      "| hershey kiss                   | 10.8 fluid_ounce |\n",
      "| mini semisweet chocolate chips | 1.0 cup          |\n",
      "| peanut butter                  | 0.75 cup         |\n",
      "| salt                           | 1.0625 teaspoon  |\n",
      "| salted butter                  | 1.0 cup          |\n",
      "| semisweet chocolate chips      | 2.75 cup         |\n",
      "| sugar                          | 1.42 cup         |\n",
      "| sweetened condensed milk       | 28.0 fluid_ounce |\n",
      "| unsalted butter                | 0.5 cup          |\n",
      "| vanilla                        | 3.0 teaspoon     |\n",
      "| water                          | 3.0 teaspoon     |\n"
     ]
    }
   ],
   "source": [
    "all_ingreds = df.groupby(['ingredient'])['pint_unit'].sum().reset_index().set_index('ingredient')\n",
    "\n",
    "print(tabulate(all_ingreds, tablefmt=\"pipe\", headers=\"keys\"))"
   ]
  },
  {
   "cell_type": "code",
   "execution_count": 255,
   "metadata": {},
   "outputs": [],
   "source": [
    "cookie = df[df['cookie'] == 'Peanut Butter Cluster Kisses']"
   ]
  },
  {
   "cell_type": "code",
   "execution_count": 256,
   "metadata": {},
   "outputs": [
    {
     "data": {
      "text/html": [
       "<div>\n",
       "<style scoped>\n",
       "    .dataframe tbody tr th:only-of-type {\n",
       "        vertical-align: middle;\n",
       "    }\n",
       "\n",
       "    .dataframe tbody tr th {\n",
       "        vertical-align: top;\n",
       "    }\n",
       "\n",
       "    .dataframe thead th {\n",
       "        text-align: right;\n",
       "    }\n",
       "</style>\n",
       "<table border=\"1\" class=\"dataframe\">\n",
       "  <thead>\n",
       "    <tr style=\"text-align: right;\">\n",
       "      <th></th>\n",
       "      <th>cookie</th>\n",
       "      <th>directions</th>\n",
       "      <th>original recipe yield</th>\n",
       "    </tr>\n",
       "  </thead>\n",
       "  <tbody>\n",
       "    <tr>\n",
       "      <th>0</th>\n",
       "      <td>Tate's Chocolate Chip Cookies</td>\n",
       "      <td>Preheat the oven to 350 degrees. Grease two co...</td>\n",
       "      <td>54</td>\n",
       "    </tr>\n",
       "    <tr>\n",
       "      <th>1</th>\n",
       "      <td>Magic Cookie Bars</td>\n",
       "      <td>Preheat oven to 350° F. In 13x9 inch baking pa...</td>\n",
       "      <td>36</td>\n",
       "    </tr>\n",
       "    <tr>\n",
       "      <th>2</th>\n",
       "      <td>Peanut Butter Cluster Kisses</td>\n",
       "      <td>Preheat oven to 375°. In large mixer bowl beat...</td>\n",
       "      <td>60</td>\n",
       "    </tr>\n",
       "    <tr>\n",
       "      <th>3</th>\n",
       "      <td>Forgotten Cookies</td>\n",
       "      <td>Heat oven to 350 degrees F. Beat egg whites wi...</td>\n",
       "      <td>24</td>\n",
       "    </tr>\n",
       "  </tbody>\n",
       "</table>\n",
       "</div>"
      ],
      "text/plain": [
       "                          cookie  \\\n",
       "0  Tate's Chocolate Chip Cookies   \n",
       "1              Magic Cookie Bars   \n",
       "2   Peanut Butter Cluster Kisses   \n",
       "3              Forgotten Cookies   \n",
       "\n",
       "                                          directions  original recipe yield  \n",
       "0  Preheat the oven to 350 degrees. Grease two co...                     54  \n",
       "1  Preheat oven to 350° F. In 13x9 inch baking pa...                     36  \n",
       "2  Preheat oven to 375°. In large mixer bowl beat...                     60  \n",
       "3  Heat oven to 350 degrees F. Beat egg whites wi...                     24  "
      ]
     },
     "execution_count": 256,
     "metadata": {},
     "output_type": "execute_result"
    }
   ],
   "source": [
    "di = pd.read_csv('baking_directions.csv', index_col=0)\n",
    "di"
   ]
  },
  {
   "cell_type": "code",
   "execution_count": 257,
   "metadata": {},
   "outputs": [],
   "source": [
    "cookie = \"Tate's Chocolate Chip Cookies\""
   ]
  },
  {
   "cell_type": "code",
   "execution_count": 258,
   "metadata": {},
   "outputs": [],
   "source": [
    "c, d, y = di[di['cookie'] == cookie].values[0]\n",
    "ingred_table = df[df['cookie'] == cookie][df.columns[1:]].set_index('quantity').drop(columns='pint_unit')"
   ]
  },
  {
   "cell_type": "code",
   "execution_count": 259,
   "metadata": {},
   "outputs": [
    {
     "name": "stdout",
     "output_type": "stream",
     "text": [
      "|   quantity | unit     | ingredient                | notes                                   |\n",
      "|-----------:|:---------|:--------------------------|:----------------------------------------|\n",
      "|       2    | cup      | all-purpose flour         | nan                                     |\n",
      "|       1    | teaspoon | baking soda               | nan                                     |\n",
      "|       1    | teaspoon | salt                      | nan                                     |\n",
      "|       1    | cup      | salted butter             | nan                                     |\n",
      "|       0.75 | cup      | sugar                     | nan                                     |\n",
      "|       0.75 | cup      | dark brown sugar          | firmly packed                           |\n",
      "|       3    | teaspoon | water                     | Nonnie puts 3 tsp water (recipe only 1) |\n",
      "|       1    | teaspoon | vanilla                   | nan                                     |\n",
      "|       2    | unit     | egg                       | large                                   |\n",
      "|       2    | cup      | semisweet chocolate chips | nan                                     |\n"
     ]
    }
   ],
   "source": [
    "print(tabulate(ingred_table, tablefmt=\"pipe\", headers=\"keys\"))"
   ]
  },
  {
   "cell_type": "code",
   "execution_count": 271,
   "metadata": {},
   "outputs": [
    {
     "name": "stdout",
     "output_type": "stream",
     "text": [
      "\n",
      "# Tate's Chocolate Chip Cookies, yield = 54\n",
      "\n",
      "![alt text](pictures/TatesChocolateChipCookies.jpg)\n",
      "\n",
      "Preheat the oven to 350 degrees. Grease two cookie sheets or line them with Silpat. \n",
      "\n",
      "In a large bowl, stir together the flour, baking soda, and salt. \n",
      "\n",
      "In another large bowl, cream the butter and sugars. Add the water and vanilla. Mix the ingredients until they are just combined. Add the eggs and mix them lightly; Stir in the flour mixture. Fold in the chocolate chips. Don’t overmix the dough. \n",
      "\n",
      "Drop the cookies 2 inches apart onto the prepared cookie sheets using two tablespoons or an ice cream scoop. Flatten out cookie.\n",
      "\n",
      "Bake them for 12 minutes or until the edges and centers are brown. Remove the cookies to a wire rack to cool.\n",
      "\n",
      "\n",
      "|   quantity | unit     | ingredient                | notes                                   |\n",
      "|-----------:|:---------|:--------------------------|:----------------------------------------|\n",
      "|       2    | cup      | all-purpose flour         |                                         |\n",
      "|       1    | teaspoon | baking soda               |                                         |\n",
      "|       1    | teaspoon | salt                      |                                         |\n",
      "|       1    | cup      | salted butter             |                                         |\n",
      "|       0.75 | cup      | sugar                     |                                         |\n",
      "|       0.75 | cup      | dark brown sugar          | firmly packed                           |\n",
      "|       3    | teaspoon | water                     | Nonnie puts 3 tsp water (recipe only 1) |\n",
      "|       1    | teaspoon | vanilla                   |                                         |\n",
      "|       2    | unit     | egg                       | large                                   |\n",
      "|       2    | cup      | semisweet chocolate chips |                                         |\n",
      "\n",
      "# Magic Cookie Bars, yield = 36\n",
      "\n",
      "![alt text](pictures/MagicCookieBars.jpg)\n",
      "\n",
      "Preheat oven to 350° F. In 13x9 inch baking pan, melt margarine in oven. \n",
      "\n",
      "Sprinkle crumbs over margarine; pour eagle brand evenly over crumbs. \n",
      "\n",
      "Top with remaining ingredients; press down firmly. Bake 25 to 30 minutes or until lightly browned. \n",
      "\n",
      "Cool. Chill throughly if desired. Cut into bars.\n",
      "\n",
      "\n",
      "|   quantity | unit   | ingredient                | notes                                 |\n",
      "|-----------:|:-------|:--------------------------|:--------------------------------------|\n",
      "|       0.5  | cup    | unsalted butter           |                                       |\n",
      "|       1.5  | cup    | graham cracker crumbs     |                                       |\n",
      "|      14    | ounce  | sweetened condensed milk  | usually 1 can of eagle brand/magnolia |\n",
      "|       6    | ounce  | semisweet chocolate chips |                                       |\n",
      "|       1.33 | cup    | coconut flake             |                                       |\n",
      "|       1    | cup    | chopped nuts              | usually walnuts                       |\n",
      "\n",
      "# Peanut Butter Cluster Kisses, yield = 60\n",
      "\n",
      "![alt text](pictures/PeanutButterClusterKisses.jpg)\n",
      "\n",
      "Preheat oven to 375°. In large mixer bowl beat Eagle Brand and peanut butter until smooth. \n",
      "\n",
      "Add biscuit mix and vanilla; mix well. Shape into 1-inch balls. Roll in sugar. \n",
      "\n",
      "Place 2 inches apart on ungreased baking sheets. \n",
      "\n",
      "Bake 6 to 8 minutes or until lightly browned (do not overtake). \n",
      "\n",
      "Press hershey kiss in center of each ball immediately after baking.\n",
      "\n",
      "\n",
      "|   quantity | unit     | ingredient               | notes                                 |\n",
      "|-----------:|:---------|:-------------------------|:--------------------------------------|\n",
      "|      14    | ounce    | sweetened condensed milk | usually 1 can of eagle brand/magnolia |\n",
      "|       0.75 | cup      | peanut butter            | usually creamy, can use crunchy       |\n",
      "|       2    | cup      | bisquik baking mix       |                                       |\n",
      "|       1    | teaspoon | vanilla                  |                                       |\n",
      "|       1    | plate    | granulated sugar         |                                       |\n",
      "|      10.8  | ounce    | hershey kiss             | 1 bag of share pack is enough kisses  |\n",
      "\n",
      "# Forgotten Cookies, yield = 24\n",
      "\n",
      "![alt text](pictures/ForgottenCookies.jpg)\n",
      "\n",
      "Heat oven to 350 degrees F. \n",
      "\n",
      "Beat egg whites with salt until foamy, gradually add sugar and beat until stiff. \n",
      "\n",
      "Fold in remaining ingredients. Drop onto aluminum foil lined cookie sheet by teaspoon. \n",
      "\n",
      "Place in oven. Turn off oven immediately. Leave in oven until completely cool, or overnight.\n",
      "\n",
      "\n",
      "|   quantity | unit     | ingredient                     | notes    |\n",
      "|-----------:|:---------|:-------------------------------|:---------|\n",
      "|       2    | unit     | egg white                      | large    |\n",
      "|       0.67 | cup      | sugar                          |          |\n",
      "|       1    | pinch    | salt                           |          |\n",
      "|       1    | teaspoon | vanilla                        |          |\n",
      "|       1    | cup      | mini semisweet chocolate chips |          |\n",
      "|       1    | cup      | chopped nuts                   | optional |\n",
      "\n",
      "# All Ingredients\n",
      "all ingredients for all cookies are here\n",
      "\n",
      "| ingredient                     | pint_unit        |\n",
      "|:-------------------------------|:-----------------|\n",
      "| all-purpose flour              | 2.0 cup          |\n",
      "| baking soda                    | 1.0 teaspoon     |\n",
      "| bisquik baking mix             | 2.0 cup          |\n",
      "| chopped nuts                   | 2.0 cup          |\n",
      "| coconut flake                  | 1.33 cup         |\n",
      "| dark brown sugar               | 0.75 cup         |\n",
      "| egg                            | 2.0 egg_unit     |\n",
      "| egg white                      | 2.0 egg_unit     |\n",
      "| graham cracker crumbs          | 1.5 cup          |\n",
      "| granulated sugar               | 1.0 plate        |\n",
      "| hershey kiss                   | 10.8 fluid_ounce |\n",
      "| mini semisweet chocolate chips | 1.0 cup          |\n",
      "| peanut butter                  | 0.75 cup         |\n",
      "| salt                           | 1.0625 teaspoon  |\n",
      "| salted butter                  | 1.0 cup          |\n",
      "| semisweet chocolate chips      | 2.75 cup         |\n",
      "| sugar                          | 1.42 cup         |\n",
      "| sweetened condensed milk       | 28.0 fluid_ounce |\n",
      "| unsalted butter                | 0.5 cup          |\n",
      "| vanilla                        | 3.0 teaspoon     |\n",
      "| water                          | 3.0 teaspoon     |\n"
     ]
    }
   ],
   "source": [
    "\n",
    "# do the following cmd\n",
    "# python3 culinary.py > README.md\n",
    "\n",
    "import pandas as pd\n",
    "from pint import UnitRegistry\n",
    "from tabulate import tabulate\n",
    "\n",
    "ureg = UnitRegistry()\n",
    "ureg.define('pinch = .0625 * teaspoon')\n",
    "ureg.define('egg_unit = 1 * atomic_mass_constant')\n",
    "ureg.define('plate = 1 * atomic_mass_constant')\n",
    "\n",
    "df = pd.read_csv('baking_ingredients.csv', index_col=0)\n",
    "unit_conv = {'cup': ureg.US_liquid_cup, \n",
    "             'teaspoon': ureg.teaspoon, \n",
    "             'ounce': ureg.US_fluid_ounce,\n",
    "             'pinch': ureg.pinch,\n",
    "             'unit': ureg.egg_unit,\n",
    "             'plate': ureg.plate}\n",
    "\n",
    "df['pint_unit'] = df['quantity'] * df['unit'].map(unit_conv)\n",
    "\n",
    "all_ingreds = df.groupby(['ingredient'])['pint_unit'].sum().reset_index().set_index('ingredient')\n",
    "\n",
    "\n",
    "\n",
    "di = pd.read_csv('baking_directions.csv', index_col=0)\n",
    "\n",
    "for cookie in df['cookie'].unique():\n",
    "    c, d, y = di[di['cookie'] == cookie].values[0]\n",
    "    print(f\"\\n# {c}, yield = {y}\\n\")\n",
    "    c = re.sub('\\W+', '', c)\n",
    "    print(f\"![alt text](pictures/{c}.jpg)\\n\")\n",
    "    print(d)\n",
    "    ingred_table = df[df['cookie'] == cookie][df.columns[1:]].set_index('quantity').drop(columns='pint_unit')\n",
    "    ingred_table.fillna('', inplace=True)\n",
    "    print('\\n')\n",
    "    print(tabulate(ingred_table, tablefmt=\"pipe\", headers=\"keys\"))\n",
    "    \n",
    "\n",
    "print('\\n# All Ingredients\\nall ingredients for all cookies are here\\n')\n",
    "print(tabulate(all_ingreds, tablefmt=\"pipe\", headers=\"keys\"))\n"
   ]
  },
  {
   "cell_type": "code",
   "execution_count": 270,
   "metadata": {},
   "outputs": [
    {
     "data": {
      "text/plain": [
       "'TatesCoo'"
      ]
     },
     "execution_count": 270,
     "metadata": {},
     "output_type": "execute_result"
    }
   ],
   "source": [
    "import re\n",
    "re.sub('\\W+', '', \"Tate's Coo\")"
   ]
  },
  {
   "cell_type": "code",
   "execution_count": 261,
   "metadata": {},
   "outputs": [],
   "source": [
    "q = \"\"\"Preheat the oven to 350 degrees. Grease two cookie sheets or line them with Silpat. \n",
    "\n",
    "In a large bowl, stir together the flour, baking soda, and salt. \n",
    "\n",
    "In another large bowl, cream the butter and sugars. Add the water and vanilla. Mix the ingredients until they are just combined. Add the eggs and mix them lightly; Stir in the flour mixture. Fold in the chocolate chips. Don’t overmix the dough. \n",
    "\n",
    "Drop the cookies 2 inches apart onto the prepared cookie sheets using two tablespoons or an ice cream scoop. Flatten out cookie.\n",
    "\n",
    "Bake them for 12 minutes or until the edges and centers are brown. Remove the cookies to a wire rack to cool.\"\"\"\n",
    "\n",
    "q2 = \"\"\"Preheat oven to 350° F. In 13x9 inch baking pan, melt margarine in oven. \n",
    "\n",
    "Sprinkle crumbs over margarine; pour eagle brand evenly over crumbs. \n",
    "\n",
    "Top with remaining ingredients; press down firmly. Bake 25 to 30 minutes or until lightly browned. \n",
    "\n",
    "Cool. Chill throughly if desired. Cut into bars.\"\"\"\n",
    "\n",
    "q3 = \"\"\"Preheat oven to 375°. In large mixer bowl beat Eagle Brand and peanut butter until smooth. \n",
    "\n",
    "Add biscuit mix and vanilla; mix well. Shape into 1-inch balls. Roll in sugar. \n",
    "\n",
    "Place 2 inches apart on ungreased baking sheets. \n",
    "\n",
    "Bake 6 to 8 minutes or until lightly browned (do not overtake). \n",
    "\n",
    "Press hershey kiss in center of each ball immediately after baking.\"\"\"\n",
    "\n",
    "q4 = \"\"\"Heat oven to 350 degrees F. \n",
    "\n",
    "Beat egg whites with salt until foamy, gradually add sugar and beat until stiff. \n",
    "\n",
    "Fold in remaining ingredients. Drop onto aluminum foil lined cookie sheet by teaspoon. \n",
    "\n",
    "Place in oven. Turn off oven immediately. Leave in oven until completely cool, or overnight.\"\"\"\n",
    "\n",
    "l = [q, q2, q3, q4]"
   ]
  },
  {
   "cell_type": "code",
   "execution_count": 262,
   "metadata": {},
   "outputs": [],
   "source": [
    "di['directions'] = l"
   ]
  },
  {
   "cell_type": "code",
   "execution_count": 264,
   "metadata": {},
   "outputs": [],
   "source": [
    "di.to_csv('baking_directions.csv')"
   ]
  },
  {
   "cell_type": "code",
   "execution_count": null,
   "metadata": {},
   "outputs": [],
   "source": []
  },
  {
   "cell_type": "markdown",
   "metadata": {},
   "source": [
    "Preheat the oven to 350 degrees. Grease two cookie sheets or line them with Silpat. \n",
    "\n",
    "In a large bowl, stir together the flour, baking soda, and salt. \n",
    "\n",
    "In another large bowl, cream the butter and sugars. Add the water and vanilla. Mix the ingredients until they are just combined. Add the eggs and mix them lightly; Stir in the flour mixture. Fold in the chocolate chips. Don’t overmix the dough. \n",
    "\n",
    "Drop the cookies 2 inches apart onto the prepared cookie sheets using two tablespoons or an ice cream scoop. Flatten out cookie.\n",
    "\n",
    "Bake them for 12 minutes or until the edges and centers are brown. Remove the cookies to a wire rack to cool."
   ]
  }
 ],
 "metadata": {
  "kernelspec": {
   "display_name": "Python 3",
   "language": "python",
   "name": "python3"
  },
  "language_info": {
   "codemirror_mode": {
    "name": "ipython",
    "version": 3
   },
   "file_extension": ".py",
   "mimetype": "text/x-python",
   "name": "python",
   "nbconvert_exporter": "python",
   "pygments_lexer": "ipython3",
   "version": "3.6.9"
  }
 },
 "nbformat": 4,
 "nbformat_minor": 2
}
